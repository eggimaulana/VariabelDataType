{
 "cells": [
  {
   "cell_type": "markdown",
   "id": "49a88d3b",
   "metadata": {},
   "source": [
    "<h1>Belajar Varibel dan Tipe Data</h1>\n",
    "Tipe data di pyhton yaitu <b>interger, float, boleam , string, string</b>"
   ]
  },
  {
   "cell_type": "code",
   "execution_count": null,
   "id": "cd7db9fc",
   "metadata": {},
   "outputs": [],
   "source": [
    "data_integer = 100\n",
    "data_integer\n",
    "int_to_string = str(data_string)"
   ]
  },
  {
   "cell_type": "code",
   "execution_count": null,
   "id": "e5f2735f",
   "metadata": {},
   "outputs": [],
   "source": [
    "data_float = 10\n",
    "print(data_float)\n",
    "print(type(data_float))"
   ]
  },
  {
   "cell_type": "code",
   "execution_count": null,
   "id": "7d15a34b",
   "metadata": {},
   "outputs": [],
   "source": [
    "data_boolean = True \n",
    "print(data_boolean)\n",
    "print(type(data_boolean))"
   ]
  },
  {
   "cell_type": "code",
   "execution_count": 27,
   "id": "6171c4dd",
   "metadata": {},
   "outputs": [
    {
     "name": "stdout",
     "output_type": "stream",
     "text": [
      "6\n",
      "<class 'str'>\n"
     ]
    }
   ],
   "source": [
    "data_string = \"6\"\n",
    "print(data_string)\n",
    "print(type(data_string))"
   ]
  },
  {
   "cell_type": "code",
   "execution_count": null,
   "id": "3cac298f",
   "metadata": {},
   "outputs": [],
   "source": [
    "data_complex = complex(5,8)\n",
    "print(data_complex)\n",
    "print(type(data_complex))"
   ]
  },
  {
   "cell_type": "markdown",
   "id": "e643881d",
   "metadata": {},
   "source": [
    "<h2>Casting</h2><hr>\n",
    "<b><font color =\"blue\"> Casting</font></b> adalah proses melakukan konversi tipe data<br>\n",
    "<ol>\n",
    "    <li>sintang casting mengunakan (tipe data)</li>\n",
    "    <li>sintang casting mengunakan </li>\n",
    "</ol>"
   ]
  },
  {
   "cell_type": "code",
   "execution_count": null,
   "id": "1e8982c6",
   "metadata": {},
   "outputs": [],
   "source": [
    "int_to_string = str(data_integer)\n",
    "int_to_float = float(data_integer)\n",
    "int_to_boolean = bool(data_integer)\n",
    "int_to_complex = complex(data_integer)\n",
    "\n",
    "print(int_to_string)\n",
    "print(int_to_float)\n",
    "print(int_to_boolean)\n",
    "print(int_to_complex)\n",
    "\n",
    "print(type(int_to_string))\n",
    "print(type(int_to_float))\n",
    "print(type(int_to_boolean))\n",
    "print(type(int_to_complex))"
   ]
  },
  {
   "cell_type": "code",
   "execution_count": null,
   "id": "af7073aa",
   "metadata": {},
   "outputs": [],
   "source": [
    "str_to_string = str(data_string)\n",
    "str_to_float = float(data_float)\n",
    "str_to_boolean = bool(data_boolean)\n",
    "str_to_complex = complex(data_complex)\n",
    "\n",
    "print(str_to_string)\n",
    "print(str_to_float)\n",
    "print(str_to_boolean)\n",
    "print(str_to_complex)\n",
    "\n",
    "print(type(str_to_string))\n",
    "print(type(str_to_float))\n",
    "print(type(str_to_boolean))\n",
    "print(type(str_to_complex))"
   ]
  },
  {
   "cell_type": "code",
   "execution_count": 28,
   "id": "f96c5d25",
   "metadata": {},
   "outputs": [
    {
     "name": "stdout",
     "output_type": "stream",
     "text": [
      "6\n",
      "6.0\n",
      "True\n"
     ]
    }
   ],
   "source": [
    "string_to_int = int(data_string)\n",
    "string_to_float = float(data_string)\n",
    "string_to_bool = bool(data_string)\n",
    "\n",
    "print(string_to_int)\n",
    "print(string_to_float)\n",
    "print(string_to_bool)"
   ]
  },
  {
   "cell_type": "code",
   "execution_count": 30,
   "id": "f8382937",
   "metadata": {},
   "outputs": [
    {
     "name": "stdout",
     "output_type": "stream",
     "text": [
      "10\n",
      "10.0\n",
      "True\n"
     ]
    }
   ],
   "source": [
    "float_to_int = int(data_float)\n",
    "float_to_float = float(data_float)\n",
    "float_to_bool = bool(data_float)\n",
    "\n",
    "print(float_to_int)\n",
    "print(float_to_float)\n",
    "print(float_to_bool)"
   ]
  },
  {
   "cell_type": "code",
   "execution_count": null,
   "id": "784e2c85",
   "metadata": {},
   "outputs": [],
   "source": []
  }
 ],
 "metadata": {
  "kernelspec": {
   "display_name": "Python 3 (ipykernel)",
   "language": "python",
   "name": "python3"
  },
  "language_info": {
   "codemirror_mode": {
    "name": "ipython",
    "version": 3
   },
   "file_extension": ".py",
   "mimetype": "text/x-python",
   "name": "python",
   "nbconvert_exporter": "python",
   "pygments_lexer": "ipython3",
   "version": "3.9.12"
  }
 },
 "nbformat": 4,
 "nbformat_minor": 5
}
